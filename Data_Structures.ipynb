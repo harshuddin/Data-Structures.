{
  "nbformat": 4,
  "nbformat_minor": 0,
  "metadata": {
    "colab": {
      "provenance": []
    },
    "kernelspec": {
      "name": "python3",
      "display_name": "Python 3"
    },
    "language_info": {
      "name": "python"
    }
  },
  "cells": [
    {
      "cell_type": "markdown",
      "source": [
        "\n",
        "\n",
        "# Theoritical Questions\n",
        "\n",
        "\n",
        "1. What are data structures, and why are they important?\n",
        "answer> Data structures are the fundamental building blocks of computer programming. They define how data is organized, stored, and manipulated within a program. Understanding data structures is very important for developing efficient and effective algorithms.\n",
        "\n",
        "2. Explain the difference between mutable and immutable data types with examples.\n",
        "Answer>\n",
        "- Mutable Data Type – A mutable data type is one whose values can be changed.\n",
        "Example: List, Dictionaries, and Set\n",
        "-Immutable Data Type – An immutable data type is one in which the values can’t be changed or altered.\n",
        "Example: String and Tuples\n",
        "\n",
        "3. What are the main differences between lists and tuples in Python?\n",
        "\n",
        " Answer- List = is a container that contains different types of objects. In it, the elements are separated by commas and stored within square brackets. Each element of a list has a unique position index, starting from 0.\n",
        "\n",
        " Tuple = is also similar to a list but it contains immutable objects and they are stored within parentheses. Those objects that cannot be modified by any means are called as immutable.\n",
        "\n",
        " 4. Describe how dictionaries store data.\n",
        " Answer>\n",
        " Dictionaries are a built-in data type in Python that allow you to store data as key-value pairs. They are similar to lists in that they can store multiple values, but unlike lists, they are not ordered and do not use integer indices.\n",
        "\n",
        " 5. Why might you use a set instead of a list in Python?\n",
        " Answer> Beacuse Set represents a collection of distinct elements. In python, sets are mainly used for faster operation.It is a very fast operation on sets. If we have a large collection of elements and if we wish to perform membership test, in that case it is appropriate to use set instead of a list.\n",
        "\n",
        " 6. What is a string in Python, and how is it different from a list?\n",
        " Answer>\n",
        " In Python, a string is a sequence of characters, such as letters, numbers, or symbols, enclosed in quotes (single, double, or triple). Strings are immutable, meaning their contents cannot be modified after creation.\n",
        "Here are some key characteristics of strings in Python:\n",
        "1. Immutable: Strings cannot be changed after creation.\n",
        "2. Sequence: Strings are a sequence of characters, allowing indexing and slicing.\n",
        "3. Quoted: Strings are enclosed in quotes (single, double, or triple).\n",
        "\n",
        "Example of strings:\n",
        "name = \"John Doe\"\n",
        "greeting = 'Hello, World!'\n",
        "multi_line_string = \"\"\"This is a\n",
        "multi-line string\"\"\"\n",
        "\n",
        "how string it is different from a list-\n",
        "- strings are immutable sequences of characters, while lists are mutable sequences of arbitrary objects.\n",
        "- Strings are limited to character indexing and cannot be modified, while lists support indexing of arbitrary objects and can be modified using various methods.\n",
        "\n",
        "7. How do tuples ensure data integrity in Python?\n",
        "Answer>\n",
        "Tuples are immutable, meaning their contents can't be modified after creation. This ensures data integrity by preventing unintentional changes to the data.\n",
        "\n",
        "8. What is a hash table, and how does it relate to dictionaries in Python?\n",
        "Answer>\n",
        " A hash table, also known as hash map, is a data structure that implements an associative array abstract data type, a structure that can map keys to values.\n",
        " hash table is related to dictionaries in python because -\n",
        "- Think of a dictionary as a user-friendly interface for working with key-value pairs.\n",
        "- The hash table is the underlying mechanism that makes dictionaries fast and efficient.\n",
        "\n",
        "\n",
        "\n",
        "\n",
        "\n",
        " 9. Can lists contain different data types in Python?\n",
        " Answer>\n",
        "   Yes, lists in Python can contain different data types. This is one of the key features of Python lists that makes them so powerful and flexible.\n",
        "  Yes, lists in Python can contain different data types. This is one of the key features of Python lists that makes them so powerful and flexible.\n",
        "\n",
        "10.  Explain why strings are immutable in Python?\n",
        "Answer> Strings are “immutable” which means they can not be changed after they are created. Some other immutable data types are integers, float, boolean, etc. The immutability of Python string is very useful as it helps in hashing, performance optimization, safety, ease of use, etc\n",
        "\n",
        "11. What advantages do dictionaries offer over lists for certain tasks?\n",
        "Answer> Dictionaries offer several advantages over lists for certain tasks:\n",
        "1.Faster lookups: Dictionaries provide fast access to values based on keys, making them more efficient for searching compared to lists, which require searching through each element.\n",
        "2.Key-value association: Dictionaries store data in pairs of keys and values, which allows for more meaningful data organization. This is useful for tasks where you need to map or associate data with a specific identifier.\n",
        "3.Key-value association: Dictionaries store data in pairs of keys and values, which allows for more meaningful data organization. This is useful for tasks where you need to map or associate data with a specific identifier.\n",
        "These advantages make dictionaries ideal for tasks involving fast lookups, data mapping, and ensuring uniqueness of keys.\n",
        "\n",
        "12. Describe a scenario where using a tuple would be preferable over a list?\n",
        "Answer> A tuple would be preferable over a list in a scenario where you need to store a **fixed set of values** that should not be modified. For example, if you are representing geographic coordinates (latitude and longitude), you wouldn't want these values to change, so a tuple would be a good choice.\n",
        "```python\n",
        "coordinates = (40.7128, -74.0060)  # Latitude, Longitude\n",
        "```\n",
        " Additionally, since tuples are more memory-efficient and faster than lists due to their immutability, they are suitable for situations where performance is important.\n",
        "\n",
        "13. How do sets handle duplicate values in Python?\n",
        "\n",
        "Answer> Sets in Python automatically eliminate duplicate values. When you try to add a duplicate value to a set, it simply ignores the duplicate and does not add it again.\n",
        "\n",
        "For example:\n",
        "\n",
        "my_set = {1, 2, 3}\n",
        "my_set.add(2)  # This won't be added since 2 is already in the set\n",
        "print(my_set)  # Output: {1, 2, 3}\n",
        "This behavior ensures that sets always contain only unique elements, making them ideal for situations where duplicates should be avoided.\n",
        "\n",
        "14. How does the “in” keyword work differently for lists and dictionaries?\n",
        "\n",
        "Answer> The \"in\" keyword works differently for lists and dictionaries:\n",
        "\n",
        "\n",
        "Lists: In lists, the \"in\" keyword checks if a specific value exists in the list.\n",
        "\n",
        "Exmple:\n",
        "my_list = [1, 2, 3, 4, 5]\n",
        "if 3 in my_list:\n",
        "print(\"3 is in the list\")\n",
        "\n",
        "\n",
        "Dictionaries:In dictionaries, the \"in\" keyword checks if a specific key exists in the dictionary.\n",
        "\n",
        "\n",
        "Example:\n",
        "my_dict = {\"name\": \"John\", \"age\": 30}\n",
        "if \"name\" in my_dict:\n",
        "print(\"Name is a key in the dictionary\")\n",
        "\n",
        "\n",
        "So, the main difference is that \"in\" checks for element membership, while for dictionaries, it checks for key membership.\n",
        "\n",
        "15. Can you modify the elements of a tuple? Explain why or why not?\n",
        "\n",
        "Answer> No, you cannot modify the elements of a tuple in Python. This is because tuples are immutable, meaning that once a tuple is created, its contents cannot be changed. The immutability of tuples ensures data integrity and allows Python to optimize memory usage by making tuples faster and more efficient for certain operations.\n",
        "\n",
        "For example, trying to modify an element in a tuple will result in an error:\n",
        "\n",
        "my_tuple = (1, 2, 3)\n",
        "my_tuple[0] = 10  # This will raise a TypeError\n",
        "While the tuple itself cannot be modified, you can create a new tuple with modified values if needed.\n",
        "\n",
        "16. What is a nested dictionary, and give an example of its use case?\n",
        "\n",
        "Answer> A nested dictionary is a dictionary where the values are themselves dictionaries. This allows you to represent more complex data structures, where each key in a dictionary can point to another dictionary, enabling multi-level data storage.\n",
        "\n",
        "Example: A nested dictionary could be used to store information about multiple students, where each student's data (name, age, grades) is represented by a dictionary, and all of them are stored in a main dictionary.\n",
        "\n",
        "students = {\n",
        "    \"John\": {\"age\": 21, \"grades\": {\"math\": 85, \"science\": 90}},\n",
        "    \"Jane\": {\"age\": 22, \"grades\": {\"math\": 92, \"science\": 88}},\n",
        "}\n",
        "\n",
        "# Accessing data\n",
        "print(students[\"John\"][\"grades\"][\"math\"])  # Output: 85\n",
        "In this example, the students dictionary contains other dictionaries as values, representing each student's information and grades. Nested dictionaries are useful for handling hierarchical or grouped data.\n",
        "\n",
        "17. Describe the time complexity of accessing elements in a dictionary?\n",
        "\n",
        "Answer> The time complexity of accessing elements in a dictionary is:\n",
        "\n",
        "\n",
        "O(1)This is because dictionaries in Python use a hash table data structure, which allows for constant-time lookups.\n",
        "\n",
        "\n",
        "In other words, accessing an element in a dictionary by its key takes the same amount of time regardless of the size of the dictionary!\n",
        "\n",
        "\n",
        "This makes dictionaries very efficient for fast lookups and retrievals!\n",
        "\n",
        "18. In what situations are lists preferred over dictionaries?\n",
        "Answer>: Lists are preferred over dictionaries in situations where:\n",
        "\n",
        "Order matters: If the order of elements is important, lists are better because they maintain the order of insertion, while dictionaries (prior to Python 3.7) did not guarantee order (though they do in modern versions).\n",
        "\n",
        "Indexed access: If you need to access elements using numeric indices rather than keys, lists are the natural choice because they allow efficient indexing by position.\n",
        "\n",
        "When the data is homogeneous: Lists are ideal when you have a collection of items of the same type (e.g., numbers, strings) and you don't need to associate each item with a unique key.\n",
        "\n",
        "Simple iteration: Lists are better for simple, sequential iteration or when you want to iterate through the elements in a specific order.\n",
        "\n",
        "For example:\n",
        "\n",
        "my_list = [1, 2, 3]\n",
        "In this case, if the order of elements is crucial and you access them by their index, a list is preferred.\n",
        "\n",
        "20. Explain the difference between a list and a dictionary in terms of data retrieval?\n",
        "\n",
        "Answer> The main difference between a list and a dictionary in terms of data retrieval is how you access the data:\n",
        "\n",
        "Lists: Data retrieval in a list is based on indexing. You access elements by their position in the list using an integer index. Lists are ordered, meaning the order of elements is maintained, and the position of an element determines its index.\n",
        "\n",
        "Example:\n",
        "\n",
        "my_list = [10, 20, 30]\n",
        "print(my_list[1])  # Output: 20\n",
        "Dictionaries: Data retrieval in a dictionary is based on keys, not indices. You access values by specifying the key associated with the value. Dictionaries are unordered (though they maintain insertion order since Python 3.7), so the position of elements does not matter for retrieval.\n",
        "\n",
        "Example:\n",
        "\n",
        "my_dict = {\"a\": 10, \"b\": 20}\n",
        "print(my_dict[\"b\"])  # Output: 20\n",
        "In summary:\n",
        "\n",
        "List: Retrieve elements using indexing (position-based).\n",
        "Dictionary: Retrieve values using keys (key-based).\n",
        "\n",
        "\n",
        "\n",
        "\n",
        "\n",
        "Practical Questions\n"
      ],
      "metadata": {
        "id": "5dJzl0JzENge"
      }
    },
    {
      "cell_type": "code",
      "source": [
        "#Q1. Write a code to create a string with your name and print it.\n",
        "\n",
        "a= \"Harshuddin\"\n",
        "print(a)"
      ],
      "metadata": {
        "colab": {
          "base_uri": "https://localhost:8080/"
        },
        "id": "_BjLBusnPd46",
        "outputId": "3f02d056-e1ce-4bb9-d2bc-646cc51895a1"
      },
      "execution_count": 1,
      "outputs": [
        {
          "output_type": "stream",
          "name": "stdout",
          "text": [
            "Harshuddin\n"
          ]
        }
      ]
    },
    {
      "cell_type": "code",
      "source": [
        "#Q2. Write a code to find the length of the string \"Hello World\".\n",
        "\n",
        "a= \"Hello World\"\n",
        "len(a)"
      ],
      "metadata": {
        "colab": {
          "base_uri": "https://localhost:8080/"
        },
        "id": "EoLp8UBwP-YM",
        "outputId": "a8e5f154-31ad-4728-8cd8-3282cb033921"
      },
      "execution_count": 3,
      "outputs": [
        {
          "output_type": "execute_result",
          "data": {
            "text/plain": [
              "11"
            ]
          },
          "metadata": {},
          "execution_count": 3
        }
      ]
    },
    {
      "cell_type": "code",
      "source": [
        "#Q3. Write a code to slice the first 3 characters from the string \"Python Programming\".\n",
        "\n",
        "a= \"Python Programming\"\n",
        "a[0:3]\n"
      ],
      "metadata": {
        "colab": {
          "base_uri": "https://localhost:8080/",
          "height": 35
        },
        "id": "ru2e1cm2QSe8",
        "outputId": "a9170007-2562-4cfa-c521-0b47518a4169"
      },
      "execution_count": 4,
      "outputs": [
        {
          "output_type": "execute_result",
          "data": {
            "text/plain": [
              "'Pyt'"
            ],
            "application/vnd.google.colaboratory.intrinsic+json": {
              "type": "string"
            }
          },
          "metadata": {},
          "execution_count": 4
        }
      ]
    },
    {
      "cell_type": "code",
      "source": [
        "#Q4. Write a code to convert the string \"hello\" to uppercase.\n",
        "a= \"hello\"\n",
        "a.upper()\n"
      ],
      "metadata": {
        "colab": {
          "base_uri": "https://localhost:8080/",
          "height": 35
        },
        "id": "GJvXo64oQmNk",
        "outputId": "859867a8-beab-4f18-951d-f944be550e43"
      },
      "execution_count": 5,
      "outputs": [
        {
          "output_type": "execute_result",
          "data": {
            "text/plain": [
              "'HELLO'"
            ],
            "application/vnd.google.colaboratory.intrinsic+json": {
              "type": "string"
            }
          },
          "metadata": {},
          "execution_count": 5
        }
      ]
    },
    {
      "cell_type": "code",
      "source": [
        "#Q5.  Write a code to replace the word \"apple\" with \"orange\" in the string \"I like apple\".\n",
        "a=\"I like apple\"\n",
        "a.replace(\"apple\",\"orange\")\n",
        ""
      ],
      "metadata": {
        "colab": {
          "base_uri": "https://localhost:8080/",
          "height": 35
        },
        "id": "RbuSccD1Q3yr",
        "outputId": "f4aa2c2a-216a-4843-f389-3b035846ed96"
      },
      "execution_count": 6,
      "outputs": [
        {
          "output_type": "execute_result",
          "data": {
            "text/plain": [
              "'I like orange'"
            ],
            "application/vnd.google.colaboratory.intrinsic+json": {
              "type": "string"
            }
          },
          "metadata": {},
          "execution_count": 6
        }
      ]
    },
    {
      "cell_type": "code",
      "source": [
        "#Q6. Write a code to create a list with numbers 1 to 5 and print it.\n",
        "a=[1,2,3,4,5]\n",
        "a"
      ],
      "metadata": {
        "colab": {
          "base_uri": "https://localhost:8080/"
        },
        "id": "J6pqz7avRN05",
        "outputId": "ed6fcb12-b7c3-457c-efcf-3b3c8557e50f"
      },
      "execution_count": 7,
      "outputs": [
        {
          "output_type": "execute_result",
          "data": {
            "text/plain": [
              "[1, 2, 3, 4, 5]"
            ]
          },
          "metadata": {},
          "execution_count": 7
        }
      ]
    },
    {
      "cell_type": "code",
      "source": [
        "#Q7. Write a code to append the number 10 to the list [1, 2, 3, 4].\n",
        "a=[1,2,3,4]\n",
        "a.append(10)\n",
        "a"
      ],
      "metadata": {
        "colab": {
          "base_uri": "https://localhost:8080/"
        },
        "id": "xPR-ILsPRR5a",
        "outputId": "99830c4a-7237-43e5-efda-3c9c1fad3c74"
      },
      "execution_count": 8,
      "outputs": [
        {
          "output_type": "execute_result",
          "data": {
            "text/plain": [
              "[1, 2, 3, 4, 10]"
            ]
          },
          "metadata": {},
          "execution_count": 8
        }
      ]
    },
    {
      "cell_type": "code",
      "source": [
        "#Q8.  Write a code to remove the number 3 from the list [1, 2, 3, 4, 5].\n",
        "a=[1, 2, 3, 4, 5]\n",
        "a.remove(3)\n",
        "a"
      ],
      "metadata": {
        "colab": {
          "base_uri": "https://localhost:8080/"
        },
        "id": "an7xs7NzRWNK",
        "outputId": "4195cd62-b789-48d5-b5ad-acce653da59b"
      },
      "execution_count": 9,
      "outputs": [
        {
          "output_type": "execute_result",
          "data": {
            "text/plain": [
              "[1, 2, 4, 5]"
            ]
          },
          "metadata": {},
          "execution_count": 9
        }
      ]
    },
    {
      "cell_type": "code",
      "source": [
        "#Q9. Write a code to access the second element in the list ['a', 'b', 'c', 'd'].\n",
        "g=['a', 'b', 'c', 'd']\n",
        "g[1]"
      ],
      "metadata": {
        "colab": {
          "base_uri": "https://localhost:8080/",
          "height": 35
        },
        "id": "f1lIjBTHRbxc",
        "outputId": "99a32665-a187-4330-befc-bc94edc54c1c"
      },
      "execution_count": 10,
      "outputs": [
        {
          "output_type": "execute_result",
          "data": {
            "text/plain": [
              "'b'"
            ],
            "application/vnd.google.colaboratory.intrinsic+json": {
              "type": "string"
            }
          },
          "metadata": {},
          "execution_count": 10
        }
      ]
    },
    {
      "cell_type": "code",
      "source": [
        "#Q10.  Write a code to reverse the list [10, 20, 30, 40, 50].\n",
        "a=[10, 20, 30, 40, 50]\n",
        "a=a[::-1]\n",
        "a"
      ],
      "metadata": {
        "colab": {
          "base_uri": "https://localhost:8080/"
        },
        "id": "LgJmyRQhRejx",
        "outputId": "7926b031-dc0e-4c73-bb95-f148a84d85c0"
      },
      "execution_count": 11,
      "outputs": [
        {
          "output_type": "execute_result",
          "data": {
            "text/plain": [
              "[50, 40, 30, 20, 10]"
            ]
          },
          "metadata": {},
          "execution_count": 11
        }
      ]
    },
    {
      "cell_type": "code",
      "source": [
        "#Q11. Write a code to create a tuple with the elements 10, 20, 30 and print it.\n",
        "t=(10,20,30)\n",
        "t"
      ],
      "metadata": {
        "colab": {
          "base_uri": "https://localhost:8080/"
        },
        "id": "qp9TF_vyRip8",
        "outputId": "871ded31-fc4d-4d0a-8963-c7f4a3d6b46c"
      },
      "execution_count": 12,
      "outputs": [
        {
          "output_type": "execute_result",
          "data": {
            "text/plain": [
              "(10, 20, 30)"
            ]
          },
          "metadata": {},
          "execution_count": 12
        }
      ]
    },
    {
      "cell_type": "code",
      "source": [
        "#Q12. Write a code to access the first element of the tuple ('apple', 'banana', 'cherry').\n",
        "t=('apple', 'banana', 'cherry')\n",
        "t[0]"
      ],
      "metadata": {
        "colab": {
          "base_uri": "https://localhost:8080/",
          "height": 35
        },
        "id": "Qm4GS2lnRnL4",
        "outputId": "dc1d8b5c-f8cd-4ced-cd39-19bc5fb9f24e"
      },
      "execution_count": 13,
      "outputs": [
        {
          "output_type": "execute_result",
          "data": {
            "text/plain": [
              "'apple'"
            ],
            "application/vnd.google.colaboratory.intrinsic+json": {
              "type": "string"
            }
          },
          "metadata": {},
          "execution_count": 13
        }
      ]
    },
    {
      "cell_type": "code",
      "source": [
        "#Q13. Write a code to count how many times the number 2 appears in the tuple (1, 2, 3, 2, 4, 2).\n",
        "t=(1, 2, 3, 2, 4, 2)\n",
        "t.count(2)"
      ],
      "metadata": {
        "colab": {
          "base_uri": "https://localhost:8080/"
        },
        "id": "G_7w9TzARqTU",
        "outputId": "e45f845e-9b0c-4d36-bf5a-3f6708e922a0"
      },
      "execution_count": 14,
      "outputs": [
        {
          "output_type": "execute_result",
          "data": {
            "text/plain": [
              "3"
            ]
          },
          "metadata": {},
          "execution_count": 14
        }
      ]
    },
    {
      "cell_type": "code",
      "source": [
        "#Q14.  Write a code to find the index of the element \"cat\" in the tuple ('dog', 'cat', 'rabbit').\n",
        "t=('dog', 'cat', 'rabbit')\n",
        "t.index('cat')"
      ],
      "metadata": {
        "colab": {
          "base_uri": "https://localhost:8080/"
        },
        "id": "dvMVACQqRtOl",
        "outputId": "36139d6e-84ae-45a5-ea8b-c1b7ccc06890"
      },
      "execution_count": 15,
      "outputs": [
        {
          "output_type": "execute_result",
          "data": {
            "text/plain": [
              "1"
            ]
          },
          "metadata": {},
          "execution_count": 15
        }
      ]
    },
    {
      "cell_type": "code",
      "source": [
        "#Q15. Write a code to check if the element \"banana\" is in the tuple ('apple', 'orange', 'banana').\n",
        "t=('apple', 'orange', 'banana')\n",
        "\"banana\" in t"
      ],
      "metadata": {
        "colab": {
          "base_uri": "https://localhost:8080/"
        },
        "id": "QEMMmxp3Rzlx",
        "outputId": "95eb5861-0118-40de-da6c-69bbcfcff3eb"
      },
      "execution_count": 16,
      "outputs": [
        {
          "output_type": "execute_result",
          "data": {
            "text/plain": [
              "True"
            ]
          },
          "metadata": {},
          "execution_count": 16
        }
      ]
    },
    {
      "cell_type": "code",
      "source": [
        "#Q16. Write a code to create a set with the elements 1, 2, 3, 4, 5 and print it.\n",
        "s={1,2,3,4,5}\n",
        "s"
      ],
      "metadata": {
        "colab": {
          "base_uri": "https://localhost:8080/"
        },
        "id": "uAhs2I6UR45X",
        "outputId": "36e716a7-9c58-4f11-ecda-eee69cd92d39"
      },
      "execution_count": 17,
      "outputs": [
        {
          "output_type": "execute_result",
          "data": {
            "text/plain": [
              "{1, 2, 3, 4, 5}"
            ]
          },
          "metadata": {},
          "execution_count": 17
        }
      ]
    },
    {
      "cell_type": "code",
      "source": [
        "#Q17. Write a code to add the element 6 to the set {1, 2, 3, 4}.\n",
        "s={1,2,3,4}\n",
        "s.add(6)\n",
        "s"
      ],
      "metadata": {
        "colab": {
          "base_uri": "https://localhost:8080/"
        },
        "id": "WK_oqMl4R-tN",
        "outputId": "02ffa840-d374-4c24-cde1-92e813512808"
      },
      "execution_count": 18,
      "outputs": [
        {
          "output_type": "execute_result",
          "data": {
            "text/plain": [
              "{1, 2, 3, 4, 6}"
            ]
          },
          "metadata": {},
          "execution_count": 18
        }
      ]
    },
    {
      "cell_type": "code",
      "source": [
        "#Q18. Write a code to create a tuple with the elements 10, 20, 30 and print it.\n",
        "t=(10,20,30)\n",
        "t"
      ],
      "metadata": {
        "colab": {
          "base_uri": "https://localhost:8080/"
        },
        "id": "EFXX1RXCSBPL",
        "outputId": "0b546fad-8b36-4556-df37-880818b5f02f"
      },
      "execution_count": 19,
      "outputs": [
        {
          "output_type": "execute_result",
          "data": {
            "text/plain": [
              "(10, 20, 30)"
            ]
          },
          "metadata": {},
          "execution_count": 19
        }
      ]
    },
    {
      "cell_type": "code",
      "source": [
        "#Q19. Write a code to access the first element of the tuple ('apple', 'banana', 'cherry').\n",
        "T=('apple', 'banana', 'cherry')\n",
        "T[0]"
      ],
      "metadata": {
        "colab": {
          "base_uri": "https://localhost:8080/",
          "height": 35
        },
        "id": "2LFUOc87SEbN",
        "outputId": "cbb3e15e-fbd0-489c-aacb-7cce8436926c"
      },
      "execution_count": 20,
      "outputs": [
        {
          "output_type": "execute_result",
          "data": {
            "text/plain": [
              "'apple'"
            ],
            "application/vnd.google.colaboratory.intrinsic+json": {
              "type": "string"
            }
          },
          "metadata": {},
          "execution_count": 20
        }
      ]
    },
    {
      "cell_type": "code",
      "source": [
        "#Q21. Write a code to find the index of the element \"cat\" in the tuple ('dog', 'cat', 'rabbit').\n",
        "t= ('dog', 'cat', 'rabbit')\n",
        "t.index('cat')"
      ],
      "metadata": {
        "colab": {
          "base_uri": "https://localhost:8080/"
        },
        "id": "PP2iXT03SHtP",
        "outputId": "7491b91a-ba9b-45f7-e78d-d43d2da19fd1"
      },
      "execution_count": 21,
      "outputs": [
        {
          "output_type": "execute_result",
          "data": {
            "text/plain": [
              "1"
            ]
          },
          "metadata": {},
          "execution_count": 21
        }
      ]
    },
    {
      "cell_type": "code",
      "source": [
        "#Q22. Write a code to check if the element \"banana\" is in the tuple ('apple', 'orange', 'banana')\n",
        "a=('apple', 'orange', 'banana')\n",
        "'banana' in a\n",
        ""
      ],
      "metadata": {
        "colab": {
          "base_uri": "https://localhost:8080/"
        },
        "id": "9ajhL5qpSOi5",
        "outputId": "a50591a9-7bec-4daa-edd2-4efa5f11c434"
      },
      "execution_count": 22,
      "outputs": [
        {
          "output_type": "execute_result",
          "data": {
            "text/plain": [
              "True"
            ]
          },
          "metadata": {},
          "execution_count": 22
        }
      ]
    },
    {
      "cell_type": "code",
      "source": [
        "#Q23.Write a code to create a set with the elements 1, 2, 3, 4, 5 and print it.\n",
        "a={1,2,3,4,5}\n",
        "a"
      ],
      "metadata": {
        "colab": {
          "base_uri": "https://localhost:8080/"
        },
        "id": "rUAOshjLSR37",
        "outputId": "1803cfb1-4cb5-4bc8-c9b0-5ae4b8cf5390"
      },
      "execution_count": 23,
      "outputs": [
        {
          "output_type": "execute_result",
          "data": {
            "text/plain": [
              "{1, 2, 3, 4, 5}"
            ]
          },
          "metadata": {},
          "execution_count": 23
        }
      ]
    },
    {
      "cell_type": "code",
      "source": [
        "#Q24.Write a code to add the element 6 to the set {1, 2, 3, 4}.\n",
        "s={1,2,3,4}\n",
        "s.add(6)\n",
        "s"
      ],
      "metadata": {
        "colab": {
          "base_uri": "https://localhost:8080/"
        },
        "id": "Sur9X-WxSVOe",
        "outputId": "24107292-464e-49d4-e681-eb3d8f1a0b7d"
      },
      "execution_count": 24,
      "outputs": [
        {
          "output_type": "execute_result",
          "data": {
            "text/plain": [
              "{1, 2, 3, 4, 6}"
            ]
          },
          "metadata": {},
          "execution_count": 24
        }
      ]
    }
  ]
}